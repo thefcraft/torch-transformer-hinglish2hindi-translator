{
 "cells": [
  {
   "cell_type": "code",
   "execution_count": 1,
   "metadata": {},
   "outputs": [
    {
     "name": "stdout",
     "output_type": "stream",
     "text": [
      "=> Loading checkpoint\n",
      "Translation: मेरा नाम लक्ष कुमर सिसोदिया है\n"
     ]
    }
   ],
   "source": [
    "from translator import Hinglish2HindiTranslator\n",
    "\n",
    "translator = Hinglish2HindiTranslator(model_path='model/hinglish2hindi_epoch-50.pth.tar', model_type_oneHot=False)\n",
    "translation = translator.translate(\"mera naam laksh kumar sisodiya hai\")\n",
    "print(f\"Translation: {translation}\") # ->  मेरा नाम लक्ष कुमर सिसोदिया है"
   ]
  },
  {
   "cell_type": "code",
   "execution_count": 4,
   "metadata": {},
   "outputs": [
    {
     "name": "stdout",
     "output_type": "stream",
     "text": [
      "Embedding size :  72\n",
      "=> Loading checkpoint\n",
      "Translation: मेरा नाम लक्ष कुमर सिसोडिया है\n"
     ]
    }
   ],
   "source": [
    "translator = Hinglish2HindiTranslator(model_path='model/hinglish2hindi_oneHot_epoch-50.pth.tar', model_type_oneHot=True)\n",
    "translation = translator.translate(\"mera naam laksh kumar sisodiya hai\")\n",
    "print(f\"Translation: {translation}\") # ->  मेरा नाम लक्ष कुमर सिसोदिया है"
   ]
  }
 ],
 "metadata": {
  "kernelspec": {
   "display_name": "Python 3",
   "language": "python",
   "name": "python3"
  },
  "language_info": {
   "codemirror_mode": {
    "name": "ipython",
    "version": 3
   },
   "file_extension": ".py",
   "mimetype": "text/x-python",
   "name": "python",
   "nbconvert_exporter": "python",
   "pygments_lexer": "ipython3",
   "version": "3.10.6"
  }
 },
 "nbformat": 4,
 "nbformat_minor": 2
}
